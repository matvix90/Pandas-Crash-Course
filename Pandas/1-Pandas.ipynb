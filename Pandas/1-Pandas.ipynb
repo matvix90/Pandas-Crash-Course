{
 "cells": [
  {
   "cell_type": "code",
   "execution_count": 1,
   "metadata": {},
   "outputs": [
    {
     "name": "stdout",
     "output_type": "stream",
     "text": [
      "0       1\n",
      "1       2\n",
      "2       3\n",
      "3       4\n",
      "4       5\n",
      "     ... \n",
      "95     96\n",
      "96     97\n",
      "97     98\n",
      "98     99\n",
      "99    100\n",
      "Length: 100, dtype: int32\n"
     ]
    }
   ],
   "source": [
    "#Pandas è una libreria che fornisce strutture dati e strumenti di analisi dati molto efficenti e facili da usare\n",
    "#Serie\n",
    "import numpy as np\n",
    "import pandas as pd\n",
    "from numpy.random import randn\n",
    "\n",
    "lista = np.arange(1,101)\n",
    "serie = pd.Series(lista)\n",
    "print(serie)"
   ]
  },
  {
   "cell_type": "code",
   "execution_count": 2,
   "metadata": {},
   "outputs": [
    {
     "name": "stdout",
     "output_type": "stream",
     "text": [
      "        FCA     GOOGL      APLL\n",
      "1 -0.183648 -1.076670 -1.758598\n",
      "2 -1.175476 -0.325400  0.742572\n",
      "3  0.283250  0.099302  1.093814\n",
      "4 -1.555793  1.387674 -0.348698\n"
     ]
    },
    {
     "data": {
      "text/plain": [
       "pandas.core.frame.DataFrame"
      ]
     },
     "execution_count": 2,
     "metadata": {},
     "output_type": "execute_result"
    }
   ],
   "source": [
    "#I dataframe sono oggetti costruiti dalle serie, e come argomento presentano i seguenti campi: -data, -index, -columns\n",
    "#Quindi un dataframe è un insieme di colonne che condividono gli stessi indici o date \n",
    "#Creo un dataframe con numeri casuali\n",
    "dataframe = pd.DataFrame(randn(4,3) , ['1', '2','3', '4'], ['FCA', 'GOOGL', 'APLL'])\n",
    "print(dataframe)\n",
    "type(dataframe)"
   ]
  },
  {
   "cell_type": "code",
   "execution_count": 3,
   "metadata": {},
   "outputs": [
    {
     "name": "stdout",
     "output_type": "stream",
     "text": [
      "        FCA     GOOGL      APLL      TSLA\n",
      "1 -0.183648 -1.076670 -1.758598 -2.239720\n",
      "2 -1.175476 -0.325400  0.742572  2.787088\n",
      "3  0.283250  0.099302  1.093814 -0.119490\n",
      "4 -1.555793  1.387674 -0.348698  1.949157\n"
     ]
    }
   ],
   "source": [
    "#Inserisco una nuova colonna nel dataframe\n",
    "dataframe['TSLA'] = pd.DataFrame(randn(4,1) , dataframe.index, ['TSLA'])\n",
    "print(dataframe)"
   ]
  },
  {
   "cell_type": "code",
   "execution_count": 4,
   "metadata": {},
   "outputs": [
    {
     "name": "stdout",
     "output_type": "stream",
     "text": [
      "        FCA     GOOGL      APLL      TSLA     SOMMA\n",
      "1 -0.183648 -1.076670 -1.758598 -2.239720 -5.258636\n",
      "2 -1.175476 -0.325400  0.742572  2.787088  2.028783\n",
      "3  0.283250  0.099302  1.093814 -0.119490  1.356877\n",
      "4 -1.555793  1.387674 -0.348698  1.949157  1.432340\n"
     ]
    }
   ],
   "source": [
    "#Creo una nuova colonna sommando le colonne esistenti \n",
    "dataframe['SOMMA'] = dataframe['FCA'] + dataframe['GOOGL'] + dataframe['APLL'] + dataframe['TSLA']\n",
    "print(dataframe)"
   ]
  },
  {
   "cell_type": "code",
   "execution_count": 5,
   "metadata": {},
   "outputs": [
    {
     "data": {
      "text/plain": [
       "FCA     -0.183648\n",
       "GOOGL   -1.076670\n",
       "APLL    -1.758598\n",
       "TSLA    -2.239720\n",
       "SOMMA   -5.258636\n",
       "Name: 1, dtype: float64"
      ]
     },
     "execution_count": 5,
     "metadata": {},
     "output_type": "execute_result"
    }
   ],
   "source": [
    "#Estraggo la prima riga del dataframe\n",
    "dataframe.iloc[0]"
   ]
  },
  {
   "cell_type": "code",
   "execution_count": 6,
   "metadata": {},
   "outputs": [
    {
     "data": {
      "text/html": [
       "<div>\n",
       "<style scoped>\n",
       "    .dataframe tbody tr th:only-of-type {\n",
       "        vertical-align: middle;\n",
       "    }\n",
       "\n",
       "    .dataframe tbody tr th {\n",
       "        vertical-align: top;\n",
       "    }\n",
       "\n",
       "    .dataframe thead th {\n",
       "        text-align: right;\n",
       "    }\n",
       "</style>\n",
       "<table border=\"1\" class=\"dataframe\">\n",
       "  <thead>\n",
       "    <tr style=\"text-align: right;\">\n",
       "      <th></th>\n",
       "      <th>FCA</th>\n",
       "      <th>GOOGL</th>\n",
       "      <th>APLL</th>\n",
       "      <th>TSLA</th>\n",
       "    </tr>\n",
       "  </thead>\n",
       "  <tbody>\n",
       "    <tr>\n",
       "      <th>1</th>\n",
       "      <td>-0.183648</td>\n",
       "      <td>-1.076670</td>\n",
       "      <td>-1.758598</td>\n",
       "      <td>-2.239720</td>\n",
       "    </tr>\n",
       "    <tr>\n",
       "      <th>2</th>\n",
       "      <td>-1.175476</td>\n",
       "      <td>-0.325400</td>\n",
       "      <td>0.742572</td>\n",
       "      <td>2.787088</td>\n",
       "    </tr>\n",
       "    <tr>\n",
       "      <th>3</th>\n",
       "      <td>0.283250</td>\n",
       "      <td>0.099302</td>\n",
       "      <td>1.093814</td>\n",
       "      <td>-0.119490</td>\n",
       "    </tr>\n",
       "    <tr>\n",
       "      <th>4</th>\n",
       "      <td>-1.555793</td>\n",
       "      <td>1.387674</td>\n",
       "      <td>-0.348698</td>\n",
       "      <td>1.949157</td>\n",
       "    </tr>\n",
       "  </tbody>\n",
       "</table>\n",
       "</div>"
      ],
      "text/plain": [
       "        FCA     GOOGL      APLL      TSLA\n",
       "1 -0.183648 -1.076670 -1.758598 -2.239720\n",
       "2 -1.175476 -0.325400  0.742572  2.787088\n",
       "3  0.283250  0.099302  1.093814 -0.119490\n",
       "4 -1.555793  1.387674 -0.348698  1.949157"
      ]
     },
     "execution_count": 6,
     "metadata": {},
     "output_type": "execute_result"
    }
   ],
   "source": [
    "#Elimino la colonna somma\n",
    "dataframe.drop('SOMMA', axis = 1)"
   ]
  },
  {
   "cell_type": "code",
   "execution_count": null,
   "metadata": {},
   "outputs": [],
   "source": []
  }
 ],
 "metadata": {
  "kernelspec": {
   "display_name": "Python 3",
   "language": "python",
   "name": "python3"
  },
  "language_info": {
   "codemirror_mode": {
    "name": "ipython",
    "version": 3
   },
   "file_extension": ".py",
   "mimetype": "text/x-python",
   "name": "python",
   "nbconvert_exporter": "python",
   "pygments_lexer": "ipython3",
   "version": "3.7.7"
  }
 },
 "nbformat": 4,
 "nbformat_minor": 4
}
